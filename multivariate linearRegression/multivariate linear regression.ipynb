{
 "cells": [
  {
   "cell_type": "code",
   "execution_count": 2,
   "metadata": {},
   "outputs": [],
   "source": [
    "import pandas as pd\n",
    "import numpy as np \n",
    "import matplotlib.pyplot as plt"
   ]
  },
  {
   "cell_type": "code",
   "execution_count": 3,
   "metadata": {},
   "outputs": [],
   "source": [
    "data= pd.read_csv(\"WeatherDataM.csv\")"
   ]
  },
  {
   "cell_type": "code",
   "execution_count": 4,
   "metadata": {},
   "outputs": [
    {
     "data": {
      "text/html": [
       "<div>\n",
       "<style scoped>\n",
       "    .dataframe tbody tr th:only-of-type {\n",
       "        vertical-align: middle;\n",
       "    }\n",
       "\n",
       "    .dataframe tbody tr th {\n",
       "        vertical-align: top;\n",
       "    }\n",
       "\n",
       "    .dataframe thead th {\n",
       "        text-align: right;\n",
       "    }\n",
       "</style>\n",
       "<table border=\"1\" class=\"dataframe\">\n",
       "  <thead>\n",
       "    <tr style=\"text-align: right;\">\n",
       "      <th></th>\n",
       "      <th>Temperature (C)</th>\n",
       "      <th>Wind Speed (km/h)</th>\n",
       "      <th>Pressure (millibars)</th>\n",
       "      <th>Humidity</th>\n",
       "    </tr>\n",
       "  </thead>\n",
       "  <tbody>\n",
       "    <tr>\n",
       "      <th>0</th>\n",
       "      <td>9.472222</td>\n",
       "      <td>14.1197</td>\n",
       "      <td>1015.13</td>\n",
       "      <td>0.89</td>\n",
       "    </tr>\n",
       "    <tr>\n",
       "      <th>1</th>\n",
       "      <td>9.355556</td>\n",
       "      <td>14.2646</td>\n",
       "      <td>1015.63</td>\n",
       "      <td>0.86</td>\n",
       "    </tr>\n",
       "    <tr>\n",
       "      <th>2</th>\n",
       "      <td>9.377778</td>\n",
       "      <td>3.9284</td>\n",
       "      <td>1015.94</td>\n",
       "      <td>0.89</td>\n",
       "    </tr>\n",
       "    <tr>\n",
       "      <th>3</th>\n",
       "      <td>8.288889</td>\n",
       "      <td>14.1036</td>\n",
       "      <td>1016.41</td>\n",
       "      <td>0.83</td>\n",
       "    </tr>\n",
       "    <tr>\n",
       "      <th>4</th>\n",
       "      <td>8.755556</td>\n",
       "      <td>11.0446</td>\n",
       "      <td>1016.51</td>\n",
       "      <td>0.83</td>\n",
       "    </tr>\n",
       "    <tr>\n",
       "      <th>5</th>\n",
       "      <td>9.222222</td>\n",
       "      <td>13.9587</td>\n",
       "      <td>1016.66</td>\n",
       "      <td>0.85</td>\n",
       "    </tr>\n",
       "    <tr>\n",
       "      <th>6</th>\n",
       "      <td>7.733333</td>\n",
       "      <td>12.3648</td>\n",
       "      <td>1016.72</td>\n",
       "      <td>0.95</td>\n",
       "    </tr>\n",
       "    <tr>\n",
       "      <th>7</th>\n",
       "      <td>8.772222</td>\n",
       "      <td>14.1519</td>\n",
       "      <td>1016.84</td>\n",
       "      <td>0.89</td>\n",
       "    </tr>\n",
       "    <tr>\n",
       "      <th>8</th>\n",
       "      <td>10.822222</td>\n",
       "      <td>11.3183</td>\n",
       "      <td>1017.37</td>\n",
       "      <td>0.82</td>\n",
       "    </tr>\n",
       "    <tr>\n",
       "      <th>9</th>\n",
       "      <td>13.772222</td>\n",
       "      <td>12.5258</td>\n",
       "      <td>1017.22</td>\n",
       "      <td>0.72</td>\n",
       "    </tr>\n",
       "    <tr>\n",
       "      <th>10</th>\n",
       "      <td>16.016667</td>\n",
       "      <td>17.5651</td>\n",
       "      <td>1017.42</td>\n",
       "      <td>0.67</td>\n",
       "    </tr>\n",
       "    <tr>\n",
       "      <th>11</th>\n",
       "      <td>17.144444</td>\n",
       "      <td>19.7869</td>\n",
       "      <td>1017.74</td>\n",
       "      <td>0.54</td>\n",
       "    </tr>\n",
       "    <tr>\n",
       "      <th>12</th>\n",
       "      <td>17.800000</td>\n",
       "      <td>21.9443</td>\n",
       "      <td>1017.59</td>\n",
       "      <td>0.55</td>\n",
       "    </tr>\n",
       "    <tr>\n",
       "      <th>13</th>\n",
       "      <td>17.333333</td>\n",
       "      <td>20.6885</td>\n",
       "      <td>1017.48</td>\n",
       "      <td>0.51</td>\n",
       "    </tr>\n",
       "    <tr>\n",
       "      <th>14</th>\n",
       "      <td>18.877778</td>\n",
       "      <td>15.3755</td>\n",
       "      <td>1017.17</td>\n",
       "      <td>0.47</td>\n",
       "    </tr>\n",
       "    <tr>\n",
       "      <th>15</th>\n",
       "      <td>18.911111</td>\n",
       "      <td>10.4006</td>\n",
       "      <td>1016.47</td>\n",
       "      <td>0.46</td>\n",
       "    </tr>\n",
       "    <tr>\n",
       "      <th>16</th>\n",
       "      <td>15.388889</td>\n",
       "      <td>14.4095</td>\n",
       "      <td>1016.15</td>\n",
       "      <td>0.60</td>\n",
       "    </tr>\n",
       "    <tr>\n",
       "      <th>17</th>\n",
       "      <td>15.550000</td>\n",
       "      <td>11.1573</td>\n",
       "      <td>1016.17</td>\n",
       "      <td>0.63</td>\n",
       "    </tr>\n",
       "    <tr>\n",
       "      <th>18</th>\n",
       "      <td>14.255556</td>\n",
       "      <td>8.5169</td>\n",
       "      <td>1015.82</td>\n",
       "      <td>0.69</td>\n",
       "    </tr>\n",
       "    <tr>\n",
       "      <th>19</th>\n",
       "      <td>13.144444</td>\n",
       "      <td>7.6314</td>\n",
       "      <td>1015.83</td>\n",
       "      <td>0.70</td>\n",
       "    </tr>\n",
       "    <tr>\n",
       "      <th>20</th>\n",
       "      <td>11.550000</td>\n",
       "      <td>7.3899</td>\n",
       "      <td>1015.85</td>\n",
       "      <td>0.77</td>\n",
       "    </tr>\n",
       "    <tr>\n",
       "      <th>21</th>\n",
       "      <td>11.183333</td>\n",
       "      <td>4.9266</td>\n",
       "      <td>1015.77</td>\n",
       "      <td>0.76</td>\n",
       "    </tr>\n",
       "    <tr>\n",
       "      <th>22</th>\n",
       "      <td>10.116667</td>\n",
       "      <td>6.6493</td>\n",
       "      <td>1015.40</td>\n",
       "      <td>0.79</td>\n",
       "    </tr>\n",
       "    <tr>\n",
       "      <th>23</th>\n",
       "      <td>10.200000</td>\n",
       "      <td>3.9284</td>\n",
       "      <td>1015.51</td>\n",
       "      <td>0.77</td>\n",
       "    </tr>\n",
       "    <tr>\n",
       "      <th>24</th>\n",
       "      <td>10.422222</td>\n",
       "      <td>16.9855</td>\n",
       "      <td>1014.40</td>\n",
       "      <td>0.62</td>\n",
       "    </tr>\n",
       "    <tr>\n",
       "      <th>25</th>\n",
       "      <td>9.911111</td>\n",
       "      <td>17.2109</td>\n",
       "      <td>1014.20</td>\n",
       "      <td>0.66</td>\n",
       "    </tr>\n",
       "    <tr>\n",
       "      <th>26</th>\n",
       "      <td>11.183333</td>\n",
       "      <td>10.8192</td>\n",
       "      <td>1008.71</td>\n",
       "      <td>0.80</td>\n",
       "    </tr>\n",
       "    <tr>\n",
       "      <th>27</th>\n",
       "      <td>7.155556</td>\n",
       "      <td>11.0768</td>\n",
       "      <td>1014.47</td>\n",
       "      <td>0.79</td>\n",
       "    </tr>\n",
       "    <tr>\n",
       "      <th>28</th>\n",
       "      <td>6.111111</td>\n",
       "      <td>6.6493</td>\n",
       "      <td>1014.45</td>\n",
       "      <td>0.82</td>\n",
       "    </tr>\n",
       "    <tr>\n",
       "      <th>29</th>\n",
       "      <td>6.788889</td>\n",
       "      <td>13.0088</td>\n",
       "      <td>1014.49</td>\n",
       "      <td>0.83</td>\n",
       "    </tr>\n",
       "    <tr>\n",
       "      <th>30</th>\n",
       "      <td>7.261111</td>\n",
       "      <td>11.1734</td>\n",
       "      <td>1014.52</td>\n",
       "      <td>0.85</td>\n",
       "    </tr>\n",
       "    <tr>\n",
       "      <th>31</th>\n",
       "      <td>7.800000</td>\n",
       "      <td>12.8156</td>\n",
       "      <td>1014.16</td>\n",
       "      <td>0.83</td>\n",
       "    </tr>\n",
       "    <tr>\n",
       "      <th>32</th>\n",
       "      <td>9.872222</td>\n",
       "      <td>13.7494</td>\n",
       "      <td>1014.24</td>\n",
       "      <td>0.78</td>\n",
       "    </tr>\n",
       "    <tr>\n",
       "      <th>33</th>\n",
       "      <td>12.222222</td>\n",
       "      <td>15.6331</td>\n",
       "      <td>1014.25</td>\n",
       "      <td>0.72</td>\n",
       "    </tr>\n",
       "    <tr>\n",
       "      <th>34</th>\n",
       "      <td>15.094444</td>\n",
       "      <td>17.5490</td>\n",
       "      <td>1013.96</td>\n",
       "      <td>0.61</td>\n",
       "    </tr>\n",
       "    <tr>\n",
       "      <th>35</th>\n",
       "      <td>17.355556</td>\n",
       "      <td>22.7815</td>\n",
       "      <td>1013.85</td>\n",
       "      <td>0.52</td>\n",
       "    </tr>\n",
       "    <tr>\n",
       "      <th>36</th>\n",
       "      <td>19.005556</td>\n",
       "      <td>23.8924</td>\n",
       "      <td>1013.04</td>\n",
       "      <td>0.46</td>\n",
       "    </tr>\n",
       "    <tr>\n",
       "      <th>37</th>\n",
       "      <td>20.044444</td>\n",
       "      <td>28.3682</td>\n",
       "      <td>1012.22</td>\n",
       "      <td>0.40</td>\n",
       "    </tr>\n",
       "    <tr>\n",
       "      <th>38</th>\n",
       "      <td>21.050000</td>\n",
       "      <td>26.9031</td>\n",
       "      <td>1011.44</td>\n",
       "      <td>0.40</td>\n",
       "    </tr>\n",
       "    <tr>\n",
       "      <th>39</th>\n",
       "      <td>21.183333</td>\n",
       "      <td>25.6956</td>\n",
       "      <td>1010.52</td>\n",
       "      <td>0.37</td>\n",
       "    </tr>\n",
       "    <tr>\n",
       "      <th>40</th>\n",
       "      <td>20.116667</td>\n",
       "      <td>25.3092</td>\n",
       "      <td>1009.83</td>\n",
       "      <td>0.40</td>\n",
       "    </tr>\n",
       "    <tr>\n",
       "      <th>41</th>\n",
       "      <td>20.216667</td>\n",
       "      <td>18.1125</td>\n",
       "      <td>1009.26</td>\n",
       "      <td>0.36</td>\n",
       "    </tr>\n",
       "    <tr>\n",
       "      <th>42</th>\n",
       "      <td>20.000000</td>\n",
       "      <td>23.4255</td>\n",
       "      <td>1008.76</td>\n",
       "      <td>0.43</td>\n",
       "    </tr>\n",
       "    <tr>\n",
       "      <th>43</th>\n",
       "      <td>17.800000</td>\n",
       "      <td>20.0445</td>\n",
       "      <td>1008.36</td>\n",
       "      <td>0.50</td>\n",
       "    </tr>\n",
       "    <tr>\n",
       "      <th>44</th>\n",
       "      <td>16.061111</td>\n",
       "      <td>21.3969</td>\n",
       "      <td>1008.11</td>\n",
       "      <td>0.53</td>\n",
       "    </tr>\n",
       "    <tr>\n",
       "      <th>45</th>\n",
       "      <td>15.022222</td>\n",
       "      <td>21.3808</td>\n",
       "      <td>1008.15</td>\n",
       "      <td>0.55</td>\n",
       "    </tr>\n",
       "    <tr>\n",
       "      <th>46</th>\n",
       "      <td>14.422222</td>\n",
       "      <td>20.0123</td>\n",
       "      <td>1007.85</td>\n",
       "      <td>0.58</td>\n",
       "    </tr>\n",
       "    <tr>\n",
       "      <th>47</th>\n",
       "      <td>14.255556</td>\n",
       "      <td>16.5025</td>\n",
       "      <td>1007.89</td>\n",
       "      <td>0.59</td>\n",
       "    </tr>\n",
       "    <tr>\n",
       "      <th>48</th>\n",
       "      <td>13.772222</td>\n",
       "      <td>17.0982</td>\n",
       "      <td>1007.36</td>\n",
       "      <td>0.60</td>\n",
       "    </tr>\n",
       "    <tr>\n",
       "      <th>49</th>\n",
       "      <td>13.283333</td>\n",
       "      <td>14.3612</td>\n",
       "      <td>1007.26</td>\n",
       "      <td>0.63</td>\n",
       "    </tr>\n",
       "  </tbody>\n",
       "</table>\n",
       "</div>"
      ],
      "text/plain": [
       "    Temperature (C)  Wind Speed (km/h)  Pressure (millibars)  Humidity\n",
       "0          9.472222            14.1197               1015.13      0.89\n",
       "1          9.355556            14.2646               1015.63      0.86\n",
       "2          9.377778             3.9284               1015.94      0.89\n",
       "3          8.288889            14.1036               1016.41      0.83\n",
       "4          8.755556            11.0446               1016.51      0.83\n",
       "5          9.222222            13.9587               1016.66      0.85\n",
       "6          7.733333            12.3648               1016.72      0.95\n",
       "7          8.772222            14.1519               1016.84      0.89\n",
       "8         10.822222            11.3183               1017.37      0.82\n",
       "9         13.772222            12.5258               1017.22      0.72\n",
       "10        16.016667            17.5651               1017.42      0.67\n",
       "11        17.144444            19.7869               1017.74      0.54\n",
       "12        17.800000            21.9443               1017.59      0.55\n",
       "13        17.333333            20.6885               1017.48      0.51\n",
       "14        18.877778            15.3755               1017.17      0.47\n",
       "15        18.911111            10.4006               1016.47      0.46\n",
       "16        15.388889            14.4095               1016.15      0.60\n",
       "17        15.550000            11.1573               1016.17      0.63\n",
       "18        14.255556             8.5169               1015.82      0.69\n",
       "19        13.144444             7.6314               1015.83      0.70\n",
       "20        11.550000             7.3899               1015.85      0.77\n",
       "21        11.183333             4.9266               1015.77      0.76\n",
       "22        10.116667             6.6493               1015.40      0.79\n",
       "23        10.200000             3.9284               1015.51      0.77\n",
       "24        10.422222            16.9855               1014.40      0.62\n",
       "25         9.911111            17.2109               1014.20      0.66\n",
       "26        11.183333            10.8192               1008.71      0.80\n",
       "27         7.155556            11.0768               1014.47      0.79\n",
       "28         6.111111             6.6493               1014.45      0.82\n",
       "29         6.788889            13.0088               1014.49      0.83\n",
       "30         7.261111            11.1734               1014.52      0.85\n",
       "31         7.800000            12.8156               1014.16      0.83\n",
       "32         9.872222            13.7494               1014.24      0.78\n",
       "33        12.222222            15.6331               1014.25      0.72\n",
       "34        15.094444            17.5490               1013.96      0.61\n",
       "35        17.355556            22.7815               1013.85      0.52\n",
       "36        19.005556            23.8924               1013.04      0.46\n",
       "37        20.044444            28.3682               1012.22      0.40\n",
       "38        21.050000            26.9031               1011.44      0.40\n",
       "39        21.183333            25.6956               1010.52      0.37\n",
       "40        20.116667            25.3092               1009.83      0.40\n",
       "41        20.216667            18.1125               1009.26      0.36\n",
       "42        20.000000            23.4255               1008.76      0.43\n",
       "43        17.800000            20.0445               1008.36      0.50\n",
       "44        16.061111            21.3969               1008.11      0.53\n",
       "45        15.022222            21.3808               1008.15      0.55\n",
       "46        14.422222            20.0123               1007.85      0.58\n",
       "47        14.255556            16.5025               1007.89      0.59\n",
       "48        13.772222            17.0982               1007.36      0.60\n",
       "49        13.283333            14.3612               1007.26      0.63"
      ]
     },
     "execution_count": 4,
     "metadata": {},
     "output_type": "execute_result"
    }
   ],
   "source": [
    "data"
   ]
  },
  {
   "cell_type": "code",
   "execution_count": 6,
   "metadata": {
    "scrolled": true
   },
   "outputs": [
    {
     "data": {
      "text/plain": [
       "Text(0, 0.5, 'humidity')"
      ]
     },
     "execution_count": 6,
     "metadata": {},
     "output_type": "execute_result"
    },
    {
     "data": {
      "image/png": "[encoded data removed]",
      "text/plain": [
       "<Figure size 432x288 with 1 Axes>"
      ]
     },
     "metadata": {
      "needs_background": "light"
     },
     "output_type": "display_data"
    }
   ],
   "source": [
    "plt.scatter(data[\"Temperature (C)\"], data[\"Humidity\"])\n",
    "plt.xlabel(\"temperature\")\n",
    "plt.ylabel(\"humidity\")"
   ]
  },
  {
   "cell_type": "code",
   "execution_count": 7,
   "metadata": {},
   "outputs": [
    {
     "data": {
      "text/plain": [
       "Text(0, 0.5, 'humidity')"
      ]
     },
     "execution_count": 7,
     "metadata": {},
     "output_type": "execute_result"
    },
    {
     "data": {
      "image/png": "[encoded data removed]",
      "text/plain": [
       "<Figure size 432x288 with 1 Axes>"
      ]
     },
     "metadata": {
      "needs_background": "light"
     },
     "output_type": "display_data"
    }
   ],
   "source": [
    "plt.scatter(data[\"Wind Speed (km/h)\"], data[\"Humidity\"])\n",
    "plt.xlabel(\"Wind Speed (km/h)\")\n",
    "plt.ylabel(\"humidity\")"
   ]
  },
  {
   "cell_type": "code",
   "execution_count": 8,
   "metadata": {},
   "outputs": [
    {
     "data": {
      "text/plain": [
       "Text(0, 0.5, 'humidity')"
      ]
     },
     "execution_count": 8,
     "metadata": {},
     "output_type": "execute_result"
    },
    {
     "data": {
      "image/png": "[encoded data removed]",
      "text/plain": [
       "<Figure size 432x288 with 1 Axes>"
      ]
     },
     "metadata": {
      "needs_background": "light"
     },
     "output_type": "display_data"
    }
   ],
   "source": [
    "plt.scatter(data[\"Pressure (millibars)\"], data[\"Humidity\"])\n",
    "plt.xlabel(\"Pressure (millibars)\")\n",
    "plt.ylabel(\"humidity\")"
   ]
  },
  {
   "cell_type": "code",
   "execution_count": 10,
   "metadata": {},
   "outputs": [
    {
     "data": {
      "text/plain": [
       "Index(['Temperature (C)', 'Wind Speed (km/h)', 'Pressure (millibars)',\n",
       "       'Humidity'],\n",
       "      dtype='object')"
      ]
     },
     "execution_count": 10,
     "metadata": {},
     "output_type": "execute_result"
    }
   ],
   "source": [
    "data.columns"
   ]
  },
  {
   "cell_type": "code",
   "execution_count": 11,
   "metadata": {},
   "outputs": [],
   "source": [
    "x=data[['Temperature (C)', 'Wind Speed (km/h)']]\n",
    "y=data[['Humidity']]"
   ]
  },
  {
   "cell_type": "code",
   "execution_count": 12,
   "metadata": {},
   "outputs": [],
   "source": [
    "from sklearn.linear_model import LinearRegression\n",
    "lrm_model = LinearRegression()\n",
    "lrm_model.fit(x,y)\n",
    "predictions = lrm_model.predict(x)"
   ]
  },
  {
   "cell_type": "code",
   "execution_count": 16,
   "metadata": {},
   "outputs": [
    {
     "data": {
      "text/plain": [
       "Text(0, 0.5, 'humidity')"
      ]
     },
     "execution_count": 16,
     "metadata": {},
     "output_type": "execute_result"
    },
    {
     "data": {
      "image/png": "[encoded data removed]",
      "text/plain": [
       "<Figure size 432x288 with 1 Axes>"
      ]
     },
     "metadata": {
      "needs_background": "light"
     },
     "output_type": "display_data"
    }
   ],
   "source": [
    "plt.scatter(predictions,y)\n",
    "plt.xlabel(\"features\")\n",
    "plt.ylabel(\"humidity\")\n",
    "# plt.plot(predictions)"
   ]
  },
  {
   "cell_type": "code",
   "execution_count": 24,
   "metadata": {},
   "outputs": [
    {
     "data": {
      "text/plain": [
       "array([1.1431751])"
      ]
     },
     "execution_count": 24,
     "metadata": {},
     "output_type": "execute_result"
    }
   ],
   "source": [
    "lrm_model.intercept_"
   ]
  },
  {
   "cell_type": "code",
   "execution_count": 21,
   "metadata": {
    "scrolled": true
   },
   "outputs": [
    {
     "data": {
      "text/plain": [
       "array([[-0.03095902, -0.00436079]])"
      ]
     },
     "execution_count": 21,
     "metadata": {},
     "output_type": "execute_result"
    }
   ],
   "source": [
    "lrm_model.coef_"
   ]
  },
  {
   "cell_type": "code",
   "execution_count": 25,
   "metadata": {},
   "outputs": [
    {
     "data": {
      "text/plain": [
       "array([[0.78561618]])"
      ]
     },
     "execution_count": 25,
     "metadata": {},
     "output_type": "execute_result"
    }
   ],
   "source": [
    "lrm_model.predict([[10,11]])"
   ]
  }
 ],
 "metadata": {
  "kernelspec": {
   "display_name": "Python 3",
   "language": "python",
   "name": "python3"
  },
  "language_info": {
   "codemirror_mode": {
    "name": "ipython",
    "version": 3
   },
   "file_extension": ".py",
   "mimetype": "text/x-python",
   "name": "python",
   "nbconvert_exporter": "python",
   "pygments_lexer": "ipython3",
   "version": "3.8.5"
  }
 },
 "nbformat": 4,
 "nbformat_minor": 4
}
